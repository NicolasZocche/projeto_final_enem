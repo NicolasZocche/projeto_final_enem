{
 "cells": [
  {
   "cell_type": "code",
   "execution_count": 14,
   "metadata": {},
   "outputs": [],
   "source": [
    "import pandas as pd\n",
    "\n"
   ]
  },
  {
   "cell_type": "code",
   "execution_count": 15,
   "metadata": {},
   "outputs": [],
   "source": [
    "colunas = ['TP_FAIXA_ETARIA', 'TP_SEXO', 'TP_ESCOLA', \n",
    "            'TP_COR_RACA', 'TP_STATUS_REDACAO',\n",
    "            'SG_UF_PROVA', 'NU_NOTA_CN', 'NU_NOTA_CH', 'NU_NOTA_LC', \n",
    "            'NU_NOTA_MT', 'NU_NOTA_REDACAO', 'Q003', 'Q011', 'Q017', 'Q022']\n",
    "\n",
    "# se for necessário alterar o nome de alguma(s) coluna(s), usar a função \".rename\" + \"inplace=True\"\n",
    "# para alterar as informações direto no df existente:\n",
    "# enem_2013_df.rename(colums={'SG_UF_PROVA':'UF'}, inplace=True)\n",
    "\n"
   ]
  },
  {
   "cell_type": "code",
   "execution_count": 16,
   "metadata": {},
   "outputs": [],
   "source": [
    "enem_2013_df = pd.read_csv(\"C:/Users/nicol/Downloads/microdados_enem_2013/DADOS/MICRODADOS_ENEM_2013.csv\", sep=';', encoding='latin1', usecols=colunas)\n"
   ]
  },
  {
   "cell_type": "code",
   "execution_count": null,
   "metadata": {},
   "outputs": [],
   "source": [
    "enem_2013_df['TP_FAIXA_ETARIA'] = enem_2013_df['TP_FAIXA_ETARIA'].replace({ 1: '<17', 2: '17', 3: '18', 4: '19', 5: '20',\n",
    "                                                                            6: '21', 7: '22', 8: '23', 9: '24', 10: '25',\n",
    "                                                                            11: '26 a 30', 12: '31 a 35', 13: '36 a 40', \n",
    "                                                                            14: '41 a 45', 15: '46 a 50', 16: '51 a 55', \n",
    "                                                                            17: '56 a 60', 18: '61 a 65', 19: '66 a 70', \n",
    "                                                                            20: '+70',})\n",
    "\n",
    "enem_2013_df['TP_STATUS_REDACAO'] = enem_2013_df['TP_STATUS_REDACAO'].replace({1:'em branco', 2:'anulada', \n",
    "                                                                               3:'fuga tema', 4:'n atende tipo txt',\n",
    "                                                                               5:'txt insuficiente', 6:'ausente', \n",
    "                                                                               7:'txt conforme requisitos',\n",
    "                                                                               9:'fere DH', \n",
    "                                                                               10:'cópia txt motivador',\n",
    "                                                                               11:'parte txt desctda do tema'})\n",
    "\n",
    "enem_2013_df['TP_ESCOLA'] = enem_2013_df['TP_ESCOLA'].replace({ 1: 'Pública', 2: 'Privada'})\n",
    "\n",
    "enem_2013_df['TP_COR_RACA'] = enem_2013_df['TP_COR_RACA'].replace({ 0:'Não delcarado', 1:'Branca', 2:'Preta', \n",
    "                                                                    3:'Parda', 4:'Amarela', 5:'Indígena'})\n",
    "\n",
    "\n",
    "# display(enem_2013_df['TP_STATUS_REDACAO'].value_counts().get(9))\n",
    "\n",
    "def filtro_redacao_uf(UF):\n",
    "    filtrar_linhas = enem_2013_df.loc[\n",
    "        (enem_2013_df['TP_STATUS_REDACAO'] == 'fere DH') & \n",
    "        (enem_2013_df['SG_UF_PROVA'] == UF)]\n",
    "    display(filtrar_linhas)\n",
    "\n",
    "def filtro_redacao_sexo(sexo):\n",
    "    filtrar_linhas = enem_2013_df.loc[\n",
    "        (enem_2013_df['TP_STATUS_REDACAO'] == 'fere DH') & \n",
    "        (enem_2013_df['TP_SEXO'] == sexo)]\n",
    "    display(filtrar_linhas)\n",
    "\n",
    "# display(enem_2013_df['TP_STATUS_REDACAO'].dtypes)\n",
    "\n",
    "# comando para ver se os valores de TP_STATUS_REDACAO foram convertidos de nº para legendas (de \"9\" para \"fere DH exemplo\")\n",
    "# print(enem_2013_df['TP_STATUS_REDACAO'].unique())  \n",
    "\n"
   ]
  },
  {
   "cell_type": "code",
   "execution_count": null,
   "metadata": {},
   "outputs": [],
   "source": [
    "# filtro_redacao_uf('CE')\n",
    "filtro_redacao_sexo('M')\n",
    "filtro_redacao_sexo('F')"
   ]
  }
 ],
 "metadata": {
  "kernelspec": {
   "display_name": "Python 3",
   "language": "python",
   "name": "python3"
  },
  "language_info": {
   "codemirror_mode": {
    "name": "ipython",
    "version": 3
   },
   "file_extension": ".py",
   "mimetype": "text/x-python",
   "name": "python",
   "nbconvert_exporter": "python",
   "pygments_lexer": "ipython3",
   "version": "3.12.4"
  }
 },
 "nbformat": 4,
 "nbformat_minor": 2
}
